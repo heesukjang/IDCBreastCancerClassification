{
  "nbformat": 4,
  "nbformat_minor": 0,
  "metadata": {
    "colab": {
      "provenance": [],
      "collapsed_sections": []
    },
    "kernelspec": {
      "name": "python3",
      "display_name": "Python 3"
    },
    "language_info": {
      "name": "python"
    }
  },
  "cells": [
    {
      "cell_type": "markdown",
      "source": [
        "## FALL 2022<br>\n",
        "W207 Applied Machine Learning<br>\n",
        "Heesuk Jang\n",
        " \n",
        "\n",
        "#Predicting IDC with Breast Histopathology Images using CNN\n",
        "\n"
      ],
      "metadata": {
        "id": "5DebDWCL0KeL"
      }
    },
    {
      "cell_type": "code",
      "execution_count": null,
      "metadata": {
        "id": "SRkZHKoWswZT",
        "colab": {
          "base_uri": "https://localhost:8080/"
        },
        "outputId": "3bc55982-a84c-449f-be1a-e0252b781a83"
      },
      "outputs": [
        {
          "output_type": "stream",
          "name": "stdout",
          "text": [
            "Drive already mounted at /content/gdrive; to attempt to forcibly remount, call drive.mount(\"/content/gdrive\", force_remount=True).\n"
          ]
        }
      ],
      "source": [
        "import pandas as pd\n",
        "import numpy as np\n",
        "import os\n",
        "import re\n",
        "import random\n",
        "import joblib\n",
        "import glob\n",
        "\n",
        "import matplotlib.pyplot as plt\n",
        "import seaborn as sns\n",
        "import plotly.express as px\n",
        "import matplotlib.patches as patches\n",
        "\n",
        "from sklearn.utils import shuffle\n",
        "from sklearn.ensemble import GradientBoostingClassifier, AdaBoostClassifier, RandomForestClassifier\n",
        "from sklearn.model_selection import train_test_split, GridSearchCV\n",
        "from scipy import stats\n",
        "from collections import Counter\n",
        "from sklearn import preprocessing\n",
        "from sklearn.preprocessing import StandardScaler\n",
        "from sklearn.metrics import *                            # confusion_matrix, log_loss, accuracy_score\n",
        "from sklearn.model_selection import *                    # train_test_split\n",
        "from sklearn.tree import DecisionTreeClassifier\n",
        "from sklearn.naive_bayes import GaussianNB\n",
        "from sklearn import preprocessing\n",
        "from sklearn.preprocessing import *\n",
        "# from sklearn.ensemble import *\n",
        "from sklearn.svm import *\n",
        "from sklearn.linear_model import *                       # LinearRegression\n",
        "from sklearn.discriminant_analysis import *\n",
        "from sklearn.neighbors import KNeighborsClassifier\n",
        "from mlxtend.plotting import plot_decision_regions\n",
        "\n",
        "import tensorflow as tf\n",
        "from keras import metrics\n",
        "from tensorflow.keras import initializers\n",
        "from tensorflow.keras.preprocessing.image import ImageDataGenerator\n",
        "from tensorflow.keras.layers import RandomFlip, RandomZoom, RandomRotation, Conv2D, MaxPooling2D, AveragePooling2D, Input, Dense, Flatten, Dropout, BatchNormalization\n",
        "from tensorflow.keras.losses import BinaryCrossentropy\n",
        "from tensorflow.keras.models import Sequential\n",
        "from tensorflow.keras.optimizers import Adam, SGD\n",
        "tf.get_logger().setLevel('INFO')\n",
        "\n",
        "import cv2 as cv\n",
        "import skimage.io as io\n",
        "\n",
        "import warnings\n",
        "warnings.filterwarnings('ignore')\n",
        "\n",
        "# Required to read the data from Kaggle\n",
        "from google.colab import drive\n",
        "# drive.mount('/content/gdrive')\n",
        "# os.environ['KAGGLE_CONFIG_DIR'] = \"/content/gdrive/MyDrive/Kaggle\"\n",
        "\n",
        "from google.colab import drive\n",
        "drive.mount('/content/gdrive')\n",
        "\n",
        "import warnings\n",
        "warnings.simplefilter(\"ignore\", category=DeprecationWarning)"
      ]
    },
    {
      "cell_type": "markdown",
      "source": [
        "# CNN - ML pipeline\n",
        "\n",
        "  1) EDA and Image Visualization<br>\n",
        "  2) Randomly sample from training/test/validation = 800/ 200/ 200 (66%/ 17%/ 17%)<br>\n",
        "  3) Image Transformations<br>\n",
        "> Image resize<br>\n",
        "> Image normalization to [0, 1]<br>\n",
        "  \n",
        "  4) [Image Augmentations](https://iq.opengenus.org/data-augmentation/)<br>\n",
        "> Adjust brightness<br>\n",
        "> Adjust contrast<br>\n",
        "> Flip left and right<br>\n",
        "> Rotate 90 degrees<br>\n",
        "\n",
        " 5) CNN Model using Tensorflow Keras API<br>\n",
        "> Build model<br>\n",
        "> Compile model<br>\n",
        "> Fit model<br>\n",
        "\n",
        " 6) Evaluate the Model<br>\n",
        " : Determine how good our trained model applies in predicting unseen (test) data.\n",
        "> model.**evaluate**<br>\n",
        "> model.**predict**<br>\n",
        "> Evaluation Metrics:  True Labels VS. Predicted Labels<br>\n",
        "\n",
        " 7) Hyper Parameter Tuning<br>\n",
        "> Optimizer<br>\n",
        "> Learning Rate<br>\n",
        "> Dropout ratio<br>\n",
        "> Number of Epochs<br>\n",
        "> Contrast Factor<br>\n",
        "> Delta<br>\n",
        "\n",
        "\n",
        "\n",
        "\n",
        "\n",
        "\n",
        "\n"
      ],
      "metadata": {
        "id": "Oslfl6Ot7RYo"
      }
    },
    {
      "cell_type": "code",
      "source": [
        "%pwd"
      ],
      "metadata": {
        "colab": {
          "base_uri": "https://localhost:8080/",
          "height": 35
        },
        "id": "b1CFw-aOtGQm",
        "outputId": "a744377b-a896-4cac-cc84-673402c531cd"
      },
      "execution_count": null,
      "outputs": [
        {
          "output_type": "execute_result",
          "data": {
            "text/plain": [
              "'/content'"
            ],
            "application/vnd.google.colaboratory.intrinsic+json": {
              "type": "string"
            }
          },
          "metadata": {},
          "execution_count": 2
        }
      ]
    },
    {
      "cell_type": "code",
      "source": [
        "# !unzip gdrive/MyDrive/Kaggle/CNN_IDC/Dataset.zip\n",
        "\n",
        "#replace these paths with the paths of your \n",
        "val_image_directory = '/content/gdrive/MyDrive/Kaggle/CNN_IDC/Dataset/Validate'\n",
        "train_image_directory = '/content/gdrive/MyDrive/Kaggle/CNN_IDC/Dataset/Train'\n",
        "test_image_directory = '/content/gdrive/MyDrive/Kaggle/CNN_IDC/Dataset/Test'\n",
        "directory_path = '/content/gdrive/MyDrive/Kaggle/CNN_IDC'"
      ],
      "metadata": {
        "id": "uyWJuOkZuCVl"
      },
      "execution_count": null,
      "outputs": []
    },
    {
      "cell_type": "code",
      "source": [
        "def get_paths(directory):\n",
        "  all_path = []\n",
        "  idc_image_path = []\n",
        "  idc_image_label = []\n",
        "\n",
        "  for dir, subdir, files in os.walk(directory):\n",
        "    path = dir + \"/\"\n",
        "    all_path.append(path)\n",
        "\n",
        "  for i in range(len(all_path)):\n",
        "    for file in os.listdir(all_path[i]):\n",
        "      test = file\n",
        "      path = all_path[i] + test\n",
        "      if path.lower().endswith('.png'):\n",
        "        idc_image_path.append(path)\n",
        "\n",
        "  for i in range(len(idc_image_path)):\n",
        "    split_test = idc_image_path[i]\n",
        "    split_path = split_test.split(\"/\")\n",
        "    directory_name = split_path[7]\n",
        "    idc_image_label.append('class_' + split_path[8])\n",
        "    # idc_image_label.append(str(split_path[8]))\n",
        "  return idc_image_path, idc_image_label, directory_name"
      ],
      "metadata": {
        "id": "N892xh1IM4q7"
      },
      "execution_count": null,
      "outputs": []
    },
    {
      "cell_type": "code",
      "source": [
        "train_paths, train_labels, train_dir = get_paths(train_image_directory)\n",
        "val_paths, val_labels, val_dir = get_paths(val_image_directory)\n",
        "test_paths, test_labels, test_dir = get_paths(test_image_directory)"
      ],
      "metadata": {
        "id": "SJ6Cl4wtmxjO"
      },
      "execution_count": null,
      "outputs": []
    },
    {
      "cell_type": "code",
      "source": [
        "print(train_labels[:5])\n",
        "print(train_labels[-5:])\n",
        "\n",
        "print(len(train_paths), len(train_labels))\n",
        "print(len(test_paths), len(test_labels))\n",
        "print(len(val_paths), len(val_labels))"
      ],
      "metadata": {
        "id": "NIf9ETAsmxa2",
        "outputId": "852eacd7-1f8d-4644-b31e-7c81e3beb10e",
        "colab": {
          "base_uri": "https://localhost:8080/"
        }
      },
      "execution_count": null,
      "outputs": [
        {
          "output_type": "stream",
          "name": "stdout",
          "text": [
            "['class_0', 'class_0', 'class_0', 'class_0', 'class_0']\n",
            "['class_1', 'class_1', 'class_1', 'class_1', 'class_1']\n",
            "800 800\n",
            "200 200\n",
            "200 200\n"
          ]
        }
      ]
    },
    {
      "cell_type": "code",
      "source": [
        "print(train_paths[:2])\n",
        "print(train_labels[:10])\n",
        "print(train_dir)"
      ],
      "metadata": {
        "id": "uCJzEwS8mxSR",
        "outputId": "2c1bb823-b2c4-4f11-8a60-8eeef6b7d58c",
        "colab": {
          "base_uri": "https://localhost:8080/"
        }
      },
      "execution_count": null,
      "outputs": [
        {
          "output_type": "stream",
          "name": "stdout",
          "text": [
            "['/content/gdrive/MyDrive/Kaggle/CNN_IDC/Dataset/Train/0/12880_idx5_x451_y701_class0.png', '/content/gdrive/MyDrive/Kaggle/CNN_IDC/Dataset/Train/0/9345_idx5_x2001_y2001_class0.png']\n",
            "['class_0', 'class_0', 'class_0', 'class_0', 'class_0', 'class_0', 'class_0', 'class_0', 'class_0', 'class_0']\n",
            "Train\n"
          ]
        }
      ]
    },
    {
      "cell_type": "code",
      "source": [
        "def create_dataframes(idc_image_path, idc_image_label, directory_name):\n",
        "  same_name = directory_name.lower() + '_'\n",
        "  #creating the dataframes that we will be passing to our generators\n",
        "  idc_data_cleaned = {'path': idc_image_path,\n",
        "            'label': idc_image_label}\n",
        "  idc_df = pd.DataFrame(idc_data_cleaned)\n",
        "  df = idc_df.sample(frac = 1)\n",
        "  print(df)\n",
        "  csv_path = directory_path\n",
        "  csv_file = df.to_csv(csv_path + '/' + same_name + 'idc_dataframe.csv')\n",
        "  csv_file_path = csv_path + '/' + same_name + 'idc_dataframe.csv'\n",
        "  return csv_file_path"
      ],
      "metadata": {
        "id": "_WU9qt2RmxHZ"
      },
      "execution_count": null,
      "outputs": []
    },
    {
      "cell_type": "code",
      "source": [
        "train_dataframe = create_dataframes(train_paths, train_labels, train_dir)\n",
        "print('type(train_dataframe): ',type(train_dataframe))\n",
        "train_dataframe"
      ],
      "metadata": {
        "id": "MJxUgm39NeU7",
        "outputId": "a445c557-f596-4cc5-803a-df4384710cc7",
        "colab": {
          "base_uri": "https://localhost:8080/",
          "height": 303
        }
      },
      "execution_count": null,
      "outputs": [
        {
          "output_type": "stream",
          "name": "stdout",
          "text": [
            "                                                  path    label\n",
            "160  /content/gdrive/MyDrive/Kaggle/CNN_IDC/Dataset...  class_0\n",
            "314  /content/gdrive/MyDrive/Kaggle/CNN_IDC/Dataset...  class_0\n",
            "422  /content/gdrive/MyDrive/Kaggle/CNN_IDC/Dataset...  class_1\n",
            "350  /content/gdrive/MyDrive/Kaggle/CNN_IDC/Dataset...  class_0\n",
            "781  /content/gdrive/MyDrive/Kaggle/CNN_IDC/Dataset...  class_1\n",
            "..                                                 ...      ...\n",
            "575  /content/gdrive/MyDrive/Kaggle/CNN_IDC/Dataset...  class_1\n",
            "615  /content/gdrive/MyDrive/Kaggle/CNN_IDC/Dataset...  class_1\n",
            "694  /content/gdrive/MyDrive/Kaggle/CNN_IDC/Dataset...  class_1\n",
            "170  /content/gdrive/MyDrive/Kaggle/CNN_IDC/Dataset...  class_0\n",
            "512  /content/gdrive/MyDrive/Kaggle/CNN_IDC/Dataset...  class_1\n",
            "\n",
            "[800 rows x 2 columns]\n",
            "type(train_dataframe):  <class 'str'>\n"
          ]
        },
        {
          "output_type": "execute_result",
          "data": {
            "text/plain": [
              "'/content/gdrive/MyDrive/Kaggle/CNN_IDC/train_idc_dataframe.csv'"
            ],
            "application/vnd.google.colaboratory.intrinsic+json": {
              "type": "string"
            }
          },
          "metadata": {},
          "execution_count": 9
        }
      ]
    },
    {
      "cell_type": "code",
      "source": [
        "train_dataframe = create_dataframes(train_paths, train_labels, train_dir)\n",
        "train_generator = pd.read_csv(train_dataframe)\n",
        "\n",
        "test_dataframe = create_dataframes(test_paths, test_labels, test_dir)\n",
        "test_generator = pd.read_csv(test_dataframe)\n",
        "\n",
        "val_dataframe = create_dataframes(val_paths, val_labels, val_dir)\n",
        "val_generator = pd.read_csv(val_dataframe)"
      ],
      "metadata": {
        "id": "hnDu_3N4mw1G",
        "outputId": "d33b3ff7-feec-4ed2-df34-98c59a25653c",
        "colab": {
          "base_uri": "https://localhost:8080/"
        }
      },
      "execution_count": null,
      "outputs": [
        {
          "output_type": "stream",
          "name": "stdout",
          "text": [
            "                                                  path    label\n",
            "291  /content/gdrive/MyDrive/Kaggle/CNN_IDC/Dataset...  class_0\n",
            "387  /content/gdrive/MyDrive/Kaggle/CNN_IDC/Dataset...  class_0\n",
            "104  /content/gdrive/MyDrive/Kaggle/CNN_IDC/Dataset...  class_0\n",
            "248  /content/gdrive/MyDrive/Kaggle/CNN_IDC/Dataset...  class_0\n",
            "494  /content/gdrive/MyDrive/Kaggle/CNN_IDC/Dataset...  class_1\n",
            "..                                                 ...      ...\n",
            "13   /content/gdrive/MyDrive/Kaggle/CNN_IDC/Dataset...  class_0\n",
            "692  /content/gdrive/MyDrive/Kaggle/CNN_IDC/Dataset...  class_1\n",
            "415  /content/gdrive/MyDrive/Kaggle/CNN_IDC/Dataset...  class_1\n",
            "94   /content/gdrive/MyDrive/Kaggle/CNN_IDC/Dataset...  class_0\n",
            "319  /content/gdrive/MyDrive/Kaggle/CNN_IDC/Dataset...  class_0\n",
            "\n",
            "[800 rows x 2 columns]\n",
            "                                                  path    label\n",
            "128  /content/gdrive/MyDrive/Kaggle/CNN_IDC/Dataset...  class_1\n",
            "21   /content/gdrive/MyDrive/Kaggle/CNN_IDC/Dataset...  class_0\n",
            "78   /content/gdrive/MyDrive/Kaggle/CNN_IDC/Dataset...  class_0\n",
            "62   /content/gdrive/MyDrive/Kaggle/CNN_IDC/Dataset...  class_0\n",
            "15   /content/gdrive/MyDrive/Kaggle/CNN_IDC/Dataset...  class_0\n",
            "..                                                 ...      ...\n",
            "157  /content/gdrive/MyDrive/Kaggle/CNN_IDC/Dataset...  class_1\n",
            "121  /content/gdrive/MyDrive/Kaggle/CNN_IDC/Dataset...  class_1\n",
            "153  /content/gdrive/MyDrive/Kaggle/CNN_IDC/Dataset...  class_1\n",
            "22   /content/gdrive/MyDrive/Kaggle/CNN_IDC/Dataset...  class_0\n",
            "23   /content/gdrive/MyDrive/Kaggle/CNN_IDC/Dataset...  class_0\n",
            "\n",
            "[200 rows x 2 columns]\n",
            "                                                  path    label\n",
            "10   /content/gdrive/MyDrive/Kaggle/CNN_IDC/Dataset...  class_0\n",
            "97   /content/gdrive/MyDrive/Kaggle/CNN_IDC/Dataset...  class_0\n",
            "67   /content/gdrive/MyDrive/Kaggle/CNN_IDC/Dataset...  class_0\n",
            "59   /content/gdrive/MyDrive/Kaggle/CNN_IDC/Dataset...  class_0\n",
            "194  /content/gdrive/MyDrive/Kaggle/CNN_IDC/Dataset...  class_1\n",
            "..                                                 ...      ...\n",
            "73   /content/gdrive/MyDrive/Kaggle/CNN_IDC/Dataset...  class_0\n",
            "147  /content/gdrive/MyDrive/Kaggle/CNN_IDC/Dataset...  class_1\n",
            "105  /content/gdrive/MyDrive/Kaggle/CNN_IDC/Dataset...  class_1\n",
            "140  /content/gdrive/MyDrive/Kaggle/CNN_IDC/Dataset...  class_1\n",
            "195  /content/gdrive/MyDrive/Kaggle/CNN_IDC/Dataset...  class_1\n",
            "\n",
            "[200 rows x 2 columns]\n"
          ]
        }
      ]
    },
    {
      "cell_type": "code",
      "source": [
        "# train_generator"
      ],
      "metadata": {
        "id": "YyKDuRpXPXIn"
      },
      "execution_count": null,
      "outputs": []
    },
    {
      "cell_type": "code",
      "source": [
        "# https://faroit.com/keras-docs/0.3.3/preprocessing/image/\n",
        "data_generator = ImageDataGenerator(\n",
        "    featurewise_center = True,\n",
        "    featurewise_std_normalization = True,\n",
        "    #these are the augmentation features that you can adjust\n",
        "    # link to read more about them https://www.tensorflow.org/api_docs/python/tf/keras/preprocessing/image/ImageDataGenerator\n",
        "    zca_whitening=False,\n",
        "    zca_epsilon=1e-06,\n",
        "    rotation_range=0,\n",
        "    width_shift_range=0.0,\n",
        "    height_shift_range=0.0,\n",
        "    brightness_range=None,\n",
        "    shear_range=0.0,\n",
        "    zoom_range=0.0,\n",
        "    channel_shift_range=0.0,\n",
        "    fill_mode='nearest',\n",
        "    cval=0.0,\n",
        "    horizontal_flip=False,\n",
        "    vertical_flip=False,\n",
        "    rescale=None\n",
        "    # rescale=1/255\n",
        ")\n",
        "\n",
        "data_generator = ImageDataGenerator()\n",
        "\n",
        "train_data_generator = data_generator.flow_from_dataframe(\n",
        "    train_generator,\n",
        "    directory = None,\n",
        "    x_col =  'path',\n",
        "    y_col =  'label',\n",
        "    weight_col=None,\n",
        "    # featurewise_center = True,                     # transforms the images to 0 mean\n",
        "    # featurewise_std_normalization = True,          # divide inputs by std of the dataset\n",
        "    #readjust the target size based on max size of images\n",
        "    target_size=(50, 50),\n",
        "    color_mode=\"grayscale\",\n",
        "    class_mode=\"categorical\",\n",
        "    # class_mode=\"binary\",\n",
        "    batch_size=32,\n",
        "    shuffle=True\n",
        "    # seed=1234\n",
        "    # validate_filenames=True\n",
        ")\n",
        "\n",
        "validation_data_generator = data_generator.flow_from_dataframe(\n",
        "    val_generator,\n",
        "    directory = None,\n",
        "    x_col =  'path',\n",
        "    y_col =  'label',\n",
        "    weight_col=None,\n",
        "    # featurewise_center = True,\n",
        "    # featurewise_std_normalization = True,\n",
        "    #readjust the target size based on max size of images\n",
        "    target_size=(50, 50),\n",
        "    color_mode=\"grayscale\",\n",
        "    class_mode=\"categorical\",\n",
        "    # class_mode=\"binary\",\n",
        "    batch_size=32,\n",
        "    shuffle=True\n",
        "    # seed=1234\n",
        "    # validate_filenames=True\n",
        ")\n",
        "\n",
        "test_data_generator = data_generator.flow_from_dataframe(\n",
        "    test_generator,\n",
        "    directory = None,\n",
        "    x_col =  'path',\n",
        "    y_col =  'label',\n",
        "    weight_col=None,\n",
        "    # featurewise_center = True,\n",
        "    # featurewise_std_normalization = True,\n",
        "    #readjust the target size based on max size of images\n",
        "    target_size=(50, 50),\n",
        "    color_mode=\"grayscale\",\n",
        "    class_mode=\"categorical\",\n",
        "    # class_mode=\"binary\",\n",
        "    batch_size=32,\n",
        "    shuffle=False              # Kesha set to shuffle=True but we don't want to shuffle our testing data around, which it does so by default\n",
        "    # seed=1234\n",
        "    # validate_filenames=True\n",
        ")"
      ],
      "metadata": {
        "id": "eC0S3je4Jnwb",
        "outputId": "72e56b24-b916-41a5-8544-10e375aa1e47",
        "colab": {
          "base_uri": "https://localhost:8080/"
        }
      },
      "execution_count": null,
      "outputs": [
        {
          "output_type": "stream",
          "name": "stdout",
          "text": [
            "Found 800 validated image filenames belonging to 2 classes.\n",
            "Found 200 validated image filenames belonging to 2 classes.\n",
            "Found 200 validated image filenames belonging to 2 classes.\n"
          ]
        }
      ]
    },
    {
      "cell_type": "code",
      "source": [
        "img_height = 50\n",
        "img_width = 50\n",
        "img_channel = 1"
      ],
      "metadata": {
        "id": "OQcHdDdYJnol"
      },
      "execution_count": null,
      "outputs": []
    },
    {
      "cell_type": "code",
      "source": [
        "def get_doc_id_model():\n",
        "  return tf.keras.Sequential([\n",
        "                          # 1st Cov2d layer with input shape\n",
        "                           keras.layers.Conv2D(input_shape = (img_height, img_width, img_channel), \n",
        "                                               filters=32, \n",
        "                                               kernel_size=(3, 3),\n",
        "                                               padding='same',          # means add enough padding to the image so that the output feature map has the same dimension as the initial image. \n",
        "                                               activation='relu'),\n",
        "                              \n",
        "                           # 1st MaxPooling2D layer\n",
        "                           keras.layers.MaxPooling2D(pool_size=(2, 2),\n",
        "                                                  strides=(2, 2)),\n",
        "                              \n",
        "                           # 2nd Cov2d layer\n",
        "                           keras.layers.Conv2D(filters=64, \n",
        "                                               kernel_size=(3, 3), \n",
        "                                               padding='same', \n",
        "                                               activation='relu'),\n",
        "                              \n",
        "                          # 2nd MaxPooling2D layer \n",
        "                           keras.layers.MaxPooling2D(pool_size=(2, 2),\n",
        "                                                  strides=(2, 2)),\n",
        "                          \n",
        "                          # 3rd Cov2d layer\n",
        "                           keras.layers.Conv2D(filters=128, \n",
        "                                               kernel_size=(3, 3), \n",
        "                                               padding='same', \n",
        "                                               activation='relu'),\n",
        "                              \n",
        "                          # 3rd MaxPooling2D layer\n",
        "                           keras.layers.MaxPooling2D(pool_size=(2, 2), \n",
        "                                                  strides=(2, 2)),\n",
        "                              \n",
        "                          # flatten layer\n",
        "                           keras.layers.Flatten(),\n",
        "                           \n",
        "                          #  fully connected layer\n",
        "                           keras.layers.Dense(units = 256, \n",
        "                                              activation = 'relu'),\n",
        "                           \n",
        "                          #  keras.layers.Dense(units = 512, \n",
        "                          #                     activation = 'relu'),\n",
        "\n",
        "                          #  Output layer - need 2 neurons with softmax (multi-class) activation\n",
        "                           keras.layers.Dense(units = 2, \n",
        "                                              activation = 'softmax')\n",
        "                           \n",
        "                          #  Output layer - need 1 neuron with sigmoid (binary-class) activation\n",
        "                          #  keras.layers.Dense(units = 1, \n",
        "                          #                     activation = 'sigmoid')\n",
        "])"
      ],
      "metadata": {
        "id": "-aJNqzI4JngT"
      },
      "execution_count": null,
      "outputs": []
    },
    {
      "cell_type": "code",
      "source": [
        "from tensorflow import keras\n",
        "\n",
        "model = get_doc_id_model()\n",
        "model.compile(optimizer=keras.optimizers.Adam(learning_rate = 0.001), \n",
        "                    loss=keras.losses.categorical_crossentropy, \n",
        "                    metrics=['accuracy']\n",
        "              )\n",
        "\n",
        "model.summary()"
      ],
      "metadata": {
        "id": "8FPJqXiDJnZC",
        "outputId": "5d2cd1b8-60dc-451f-82c7-8f18d0644de2",
        "colab": {
          "base_uri": "https://localhost:8080/"
        }
      },
      "execution_count": null,
      "outputs": [
        {
          "output_type": "stream",
          "name": "stdout",
          "text": [
            "Model: \"sequential\"\n",
            "_________________________________________________________________\n",
            " Layer (type)                Output Shape              Param #   \n",
            "=================================================================\n",
            " conv2d (Conv2D)             (None, 50, 50, 32)        320       \n",
            "                                                                 \n",
            " max_pooling2d (MaxPooling2D  (None, 25, 25, 32)       0         \n",
            " )                                                               \n",
            "                                                                 \n",
            " conv2d_1 (Conv2D)           (None, 25, 25, 64)        18496     \n",
            "                                                                 \n",
            " max_pooling2d_1 (MaxPooling  (None, 12, 12, 64)       0         \n",
            " 2D)                                                             \n",
            "                                                                 \n",
            " conv2d_2 (Conv2D)           (None, 12, 12, 128)       73856     \n",
            "                                                                 \n",
            " max_pooling2d_2 (MaxPooling  (None, 6, 6, 128)        0         \n",
            " 2D)                                                             \n",
            "                                                                 \n",
            " flatten (Flatten)           (None, 4608)              0         \n",
            "                                                                 \n",
            " dense (Dense)               (None, 256)               1179904   \n",
            "                                                                 \n",
            " dense_1 (Dense)             (None, 2)                 514       \n",
            "                                                                 \n",
            "=================================================================\n",
            "Total params: 1,273,090\n",
            "Trainable params: 1,273,090\n",
            "Non-trainable params: 0\n",
            "_________________________________________________________________\n"
          ]
        }
      ]
    },
    {
      "cell_type": "code",
      "source": [
        "# tf.keras.callbacks.EarlyStopping => Stop training when a monitored metric has stopped improving.\n",
        "# https://www.tensorflow.org/api_docs/python/tf/keras/callbacks/EarlyStopping\n",
        "\n",
        "from tensorflow.keras.callbacks import ModelCheckpoint, EarlyStopping\n",
        "\n",
        "# This callback will stop the training when there is no improvement in the val_acc for 6 consecutive epochs\n",
        "val_acc_early_stopping = EarlyStopping(monitor = 'loss',    # monitor = 'val_acc'\n",
        "                                       patience = 6,        # Number of epochs with no improvement after which training will be stopped.\n",
        "                                       verbose = 1,         # 1: displays messages when the callback takes an action\n",
        "                                       mode = 'auto')"
      ],
      "metadata": {
        "id": "TCHVLIBUJnQ8"
      },
      "execution_count": null,
      "outputs": []
    },
    {
      "cell_type": "code",
      "source": [
        "history = model.fit(train_data_generator,\n",
        "                 epochs=7,\n",
        "                 callbacks=[val_acc_early_stopping],\n",
        "                 validation_data = validation_data_generator\n",
        "                 )\n",
        "# len(history.history['val_accuracy'])"
      ],
      "metadata": {
        "id": "1aK-mML9JnID",
        "outputId": "08e08a3d-98c0-4632-987a-3b31e4238db9",
        "colab": {
          "base_uri": "https://localhost:8080/"
        }
      },
      "execution_count": null,
      "outputs": [
        {
          "output_type": "stream",
          "name": "stdout",
          "text": [
            "Epoch 1/7\n",
            "25/25 [==============================] - 11s 386ms/step - loss: 12.5351 - accuracy: 0.5125 - val_loss: 0.6385 - val_accuracy: 0.6400\n",
            "Epoch 2/7\n",
            "25/25 [==============================] - 11s 450ms/step - loss: 0.6490 - accuracy: 0.6125 - val_loss: 0.5966 - val_accuracy: 0.7000\n",
            "Epoch 3/7\n",
            "25/25 [==============================] - 9s 338ms/step - loss: 0.5847 - accuracy: 0.7113 - val_loss: 0.6404 - val_accuracy: 0.6150\n",
            "Epoch 4/7\n",
            "25/25 [==============================] - 5s 213ms/step - loss: 0.5711 - accuracy: 0.6875 - val_loss: 0.5873 - val_accuracy: 0.6900\n",
            "Epoch 5/7\n",
            "25/25 [==============================] - 5s 210ms/step - loss: 0.5252 - accuracy: 0.7350 - val_loss: 0.5916 - val_accuracy: 0.7100\n",
            "Epoch 6/7\n",
            "25/25 [==============================] - 5s 214ms/step - loss: 0.5069 - accuracy: 0.7375 - val_loss: 0.6363 - val_accuracy: 0.6650\n",
            "Epoch 7/7\n",
            "25/25 [==============================] - 5s 212ms/step - loss: 0.4365 - accuracy: 0.8000 - val_loss: 0.6412 - val_accuracy: 0.6900\n"
          ]
        }
      ]
    },
    {
      "cell_type": "code",
      "source": [
        "hist = history.history\n",
        "x_arr = np.arange(len(hist['loss'])) + 1\n",
        "# print(x_arr)\n",
        "\n",
        "fig = plt.figure(figsize=(16,6))\n",
        "ax = fig.add_subplot(1,2,1)\n",
        "ax.plot(x_arr, hist['loss'], '-o', label='Train Loss')\n",
        "ax.plot(x_arr, hist['val_loss'], '--<', label='Validation Loss')\n",
        "ax.legend(fontsize=12)\n",
        "ax.set_xlabel('Epoch', size=14)\n",
        "ax.set_ylabel('Loss', size=14)\n",
        "ax.set_title('Loss', size=20)\n",
        "\n",
        "ax = fig.add_subplot(1,2,2)\n",
        "ax.plot(x_arr, hist['accuracy'], '-o', label='Train Acc.')\n",
        "ax.plot(x_arr, hist['val_accuracy'], '--<', label='Validation Acc.')\n",
        "ax.legend(fontsize=12)\n",
        "ax.set_xlabel('Epoch', size=14)\n",
        "ax.set_ylabel('Accuracy', size=14)\n",
        "ax.set_title('Accuracy', size=20);"
      ],
      "metadata": {
        "id": "v1a4RY1gK5kg",
        "outputId": "dfc56be5-43ba-411f-e646-b89e14dfc46f",
        "colab": {
          "base_uri": "https://localhost:8080/",
          "height": 413
        }
      },
      "execution_count": null,
      "outputs": [
        {
          "output_type": "display_data",
          "data": {
            "text/plain": [
              "<Figure size 1152x432 with 2 Axes>"
            ],
            "image/png": "[encoded data removed]"
          },
          "metadata": {
            "needs_background": "light"
          }
        }
      ]
    },
    {
      "cell_type": "code",
      "source": [
        "eval_train = model.evaluate(train_data_generator)\n",
        "print(f'Train Accuracy: {eval_train[1]*100:.2f}%')\n",
        "print()\n",
        "eval_test = model.evaluate(test_data_generator)\n",
        "print(f'Test Accuracy: {eval_test[1]*100:.2f}%\\n')"
      ],
      "metadata": {
        "id": "YEAMNOELK5bA",
        "outputId": "81e04cd8-39ea-4785-94b4-8ddc1abe49e1",
        "colab": {
          "base_uri": "https://localhost:8080/"
        }
      },
      "execution_count": null,
      "outputs": [
        {
          "output_type": "stream",
          "name": "stdout",
          "text": [
            "25/25 [==============================] - 2s 77ms/step - loss: 0.3767 - accuracy: 0.8438\n",
            "Train Accuracy: 84.38%\n",
            "\n",
            "7/7 [==============================] - 1s 69ms/step - loss: 0.5136 - accuracy: 0.7700\n",
            "Test Accuracy: 77.00%\n",
            "\n"
          ]
        }
      ]
    },
    {
      "cell_type": "code",
      "source": [
        "import itertools\n",
        "num_of_test_samples = len(test_labels)\n",
        "batch_size = 32\n",
        "\n",
        "y_true = test_data_generator.classes\n",
        "y_pred = model.predict_generator(test_data_generator, num_of_test_samples // batch_size + 1)\n",
        "y_pred = np.argmax(y_pred, axis=1)     # return the indicies of the max values along the axis (axis=1: each row)\n",
        "\n",
        "\n",
        "plt.figure(figsize=(6,5))\n",
        "conf_max = confusion_matrix(y_true, y_pred)\n",
        "sns.heatmap(conf_max, annot=True, cmap='coolwarm', annot_kws={'fontsize':18}, linewidth=0.5, fmt='d')\n",
        "\n",
        "plt.xlabel('Predicted Label', fontsize=14)\n",
        "plt.ylabel('True Label', fontsize=14)\n",
        "plt.title('Confusion Matrix for IDC Breast Cancer', fontsize=15)\n",
        "plt.tight_layout()\n"
      ],
      "metadata": {
        "id": "kJPHLF45bvjo",
        "outputId": "a0b35215-c6fc-416f-ae83-76b4fa472db7",
        "colab": {
          "base_uri": "https://localhost:8080/",
          "height": 369
        }
      },
      "execution_count": null,
      "outputs": [
        {
          "output_type": "display_data",
          "data": {
            "text/plain": [
              "<Figure size 432x360 with 2 Axes>"
            ],
            "image/png": "[encoded data removed]"
          },
          "metadata": {
            "needs_background": "light"
          }
        }
      ]
    },
    {
      "cell_type": "code",
      "source": [
        "tn, fp, fn, tp = confusion_matrix(y_true, y_pred).ravel()     # np.ravel(): returns contiguous flattened array (1D array with all the input-array elements and with the same type as it)\n",
        "print(f'True Negatives (TN): {tn}\\nTrue Positives (TP): {tp}\\nFalse Negatives (FN): {fn}\\nFalse Positives (FP): {fp}')\n",
        "\n",
        "precision = tp/(tp+fp)\n",
        "recall = tp/(tp+fn)\n",
        "f1_score = (2*precision*recall)/(precision+recall)\n",
        "\n",
        "print(f'\\nRecall of the model = {round(recall, 2)}\\nPrecision of the model = {round(precision, 2)}\\nF1_Score of the model = {round(f1_score, 2)}')"
      ],
      "metadata": {
        "colab": {
          "base_uri": "https://localhost:8080/"
        },
        "id": "GiFdpKmG5laB",
        "outputId": "d0238bc9-31a0-45e3-c139-c5152f0c8bb4"
      },
      "execution_count": null,
      "outputs": [
        {
          "output_type": "stream",
          "name": "stdout",
          "text": [
            "True Negatives (TN): 84\n",
            "True Positives (TP): 70\n",
            "False Negatives (FN): 30\n",
            "False Positives (FP): 16\n",
            "\n",
            "Recall of the model = 0.7\n",
            "Precision of the model = 0.81\n",
            "F1_Score of the model = 0.75\n"
          ]
        }
      ]
    },
    {
      "cell_type": "code",
      "source": [
        "print(classification_report(y_true, y_pred, target_names=['Non-IDC', 'IDC']))"
      ],
      "metadata": {
        "colab": {
          "base_uri": "https://localhost:8080/"
        },
        "id": "3p1KgRot3iVo",
        "outputId": "298612ac-f23b-4937-a49c-052ee44524f9"
      },
      "execution_count": null,
      "outputs": [
        {
          "output_type": "stream",
          "name": "stdout",
          "text": [
            "              precision    recall  f1-score   support\n",
            "\n",
            "     Non-IDC       0.74      0.84      0.79       100\n",
            "         IDC       0.81      0.70      0.75       100\n",
            "\n",
            "    accuracy                           0.77       200\n",
            "   macro avg       0.78      0.77      0.77       200\n",
            "weighted avg       0.78      0.77      0.77       200\n",
            "\n"
          ]
        }
      ]
    },
    {
      "cell_type": "code",
      "source": [
        "from sklearn.metrics import roc_auc_score, auc\n",
        "from sklearn.metrics import roc_curve\n",
        "\n",
        "roc_log = roc_auc_score(y_true, y_pred)\n",
        "false_positive_rate, true_positive_rate, threshold = roc_curve(y_true, y_pred)\n",
        "area_under_curve = auc(false_positive_rate, true_positive_rate)\n",
        "\n",
        "plt.figure(figsize=(8,6))\n",
        "plt.plot([0, 1], [0, 1], 'r--')\n",
        "plt.plot(false_positive_rate, true_positive_rate, label='AUC = {:.2f}'.format(area_under_curve))\n",
        "plt.xlabel('False positive rate', fontsize=14)\n",
        "plt.ylabel('True positive rate', fontsize=14)\n",
        "plt.title('ROC curve', fontsize=18)\n",
        "plt.legend(loc='best')\n",
        "plt.show()\n",
        "#plt.savefig(ROC_PLOT_FILE, bbox_inches='tight')\n",
        "plt.close()"
      ],
      "metadata": {
        "colab": {
          "base_uri": "https://localhost:8080/",
          "height": 412
        },
        "id": "LEpy_Irl8jIf",
        "outputId": "2b05cd0f-81a5-454c-f1c0-022a776bbed7"
      },
      "execution_count": null,
      "outputs": [
        {
          "output_type": "display_data",
          "data": {
            "text/plain": [
              "<Figure size 576x432 with 1 Axes>"
            ],
            "image/png": "[encoded data removed]"
          },
          "metadata": {
            "needs_background": "light"
          }
        }
      ]
    }
  ]
}